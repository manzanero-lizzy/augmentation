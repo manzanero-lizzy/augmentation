{
 "cells": [
  {
   "cell_type": "code",
   "execution_count": 4,
   "id": "d8941b46",
   "metadata": {},
   "outputs": [],
   "source": [
    "import Augmentor"
   ]
  },
  {
   "cell_type": "code",
   "execution_count": 5,
   "id": "302c1a9d",
   "metadata": {},
   "outputs": [
    {
     "name": "stdout",
     "output_type": "stream",
     "text": [
      "Initialised with 82 image(s) found.\n",
      "Output directory set to C:/Users/Eliza Marie/Desktop/THESIS/KWAW\\output.Initialised with 82 image(s) found.\n",
      "Output directory set to C:/Users/Eliza Marie/Desktop/THESIS/KWAW\\output.Initialised with 82 image(s) found.\n",
      "Output directory set to C:/Users/Eliza Marie/Desktop/THESIS/KWAW\\output.Initialised with 82 image(s) found.\n",
      "Output directory set to C:/Users/Eliza Marie/Desktop/THESIS/KWAW\\output.Initialised with 82 image(s) found.\n",
      "Output directory set to C:/Users/Eliza Marie/Desktop/THESIS/KWAW\\output."
     ]
    }
   ],
   "source": [
    "#separate directory for individual fish and group fish\n",
    "# 50 times the total number of fish for many action\n",
    "# 10 times the total number of fish for individual \n",
    "p = Augmentor.Pipeline(r\"C:/Users/Eliza Marie/Desktop/THESIS/KWAW\")\n",
    "q = Augmentor.Pipeline(r\"C:/Users/Eliza Marie/Desktop/THESIS/KWAW\")\n",
    "r = Augmentor.Pipeline(r\"C:/Users/Eliza Marie/Desktop/THESIS/KWAW\")\n",
    "s = Augmentor.Pipeline(r\"C:/Users/Eliza Marie/Desktop/THESIS/KWAW\")\n",
    "t = Augmentor.Pipeline(r\"C:/Users/Eliza Marie/Desktop/THESIS/KWAW\")"
   ]
  },
  {
   "cell_type": "code",
   "execution_count": 6,
   "id": "6d2b4866",
   "metadata": {},
   "outputs": [
    {
     "name": "stderr",
     "output_type": "stream",
     "text": [
      "Processing <PIL.Image.Image image mode=RGB size=256x256 at 0x1E9CCC94F10>: 100%|█| 4100/4100 [00:31<00:00, 131.59 Sampl\n"
     ]
    }
   ],
   "source": [
    "#many action\n",
    "p.rotate(probability=1, max_left_rotation=5, max_right_rotation=5)\n",
    "p.flip_left_right(probability=0.5)\n",
    "p.zoom_random(probability=0.5, percentage_area=0.8)\n",
    "p.flip_top_bottom(probability=0.5)\n",
    "p.resize(probability=1.0, width=256, height=256)\n",
    "p.sample(4100)"
   ]
  },
  {
   "cell_type": "code",
   "execution_count": 7,
   "id": "c83df1d5",
   "metadata": {
    "scrolled": true
   },
   "outputs": [
    {
     "name": "stderr",
     "output_type": "stream",
     "text": [
      "Processing <PIL.Image.Image image mode=RGB size=256x256 at 0x1E9CCB9E0D0>: 100%|█| 4100/4100 [00:34<00:00, 117.80 Sampl\n"
     ]
    }
   ],
   "source": [
    "q.rotate(probability=0.7, max_left_rotation=10, max_right_rotation=10)\n",
    "q.zoom(probability=0.5, min_factor=1.1, max_factor=1.5)\n",
    "q.resize(probability=1.0, width=256, height=256)\n",
    "q.sample(4100)"
   ]
  },
  {
   "cell_type": "code",
   "execution_count": 8,
   "id": "afff49c0",
   "metadata": {},
   "outputs": [
    {
     "name": "stderr",
     "output_type": "stream",
     "text": [
      "Processing <PIL.Image.Image image mode=RGB size=256x256 at 0x1E9CC9B2A30>: 100%|█| 4100/4100 [00:21<00:00, 187.71 Sampl\n"
     ]
    }
   ],
   "source": [
    "#individual \n",
    "r.rotate90(probability=0.8)\n",
    "r.resize(probability=1.0, width=256, height=256)\n",
    "r.sample(4100)"
   ]
  },
  {
   "cell_type": "code",
   "execution_count": 9,
   "id": "a4754b33",
   "metadata": {},
   "outputs": [
    {
     "name": "stderr",
     "output_type": "stream",
     "text": [
      "Processing <PIL.Image.Image image mode=RGB size=256x256 at 0x1E9CC6ED6D0>: 100%|█| 4100/4100 [00:16<00:00, 252.81 Sampl\n"
     ]
    }
   ],
   "source": [
    "#individual \n",
    "s.rotate270(probability=0.5)\n",
    "s.resize(probability=1.0, width=256, height=256)\n",
    "s.sample(4100)"
   ]
  },
  {
   "cell_type": "code",
   "execution_count": 10,
   "id": "152323b8",
   "metadata": {},
   "outputs": [
    {
     "name": "stderr",
     "output_type": "stream",
     "text": [
      "Processing <PIL.Image.Image image mode=RGB size=256x256 at 0x1E9CCA46B20>: 100%|█| 4100/4100 [00:28<00:00, 144.81 Sampl\n"
     ]
    }
   ],
   "source": [
    "#individual \n",
    "t.crop_random(probability=1, percentage_area=0.5)\n",
    "t.resize(probability=1.0, width=256, height=256)\n",
    "t.sample(4100)"
   ]
  },
  {
   "cell_type": "code",
   "execution_count": null,
   "id": "7ea02760",
   "metadata": {},
   "outputs": [],
   "source": []
  }
 ],
 "metadata": {
  "kernelspec": {
   "display_name": "Python 3 (ipykernel)",
   "language": "python",
   "name": "python3"
  },
  "language_info": {
   "codemirror_mode": {
    "name": "ipython",
    "version": 3
   },
   "file_extension": ".py",
   "mimetype": "text/x-python",
   "name": "python",
   "nbconvert_exporter": "python",
   "pygments_lexer": "ipython3",
   "version": "3.9.7"
  }
 },
 "nbformat": 4,
 "nbformat_minor": 5
}
